{
 "cells": [
  {
   "cell_type": "markdown",
   "metadata": {},
   "source": [
    "Fully Homomorphic Encryption\n",
    "==========================\n",
    "\n",
    "This is a Fully Homomorphic Encryption system whose security is based on Ring-LWE.\n",
    "This system is an implementation of the Fan-Vercauteren FHE mechanism using Gentry's bootstrapping\n",
    "\n",
    "&nbsp;\n",
    "&nbsp;\n",
    "&nbsp;\n",
    "\n",
    "Imports\n",
    "-----------"
   ]
  },
  {
   "cell_type": "code",
   "execution_count": 1,
   "metadata": {},
   "outputs": [],
   "source": [
    "import unittest\n",
    "import random"
   ]
  },
  {
   "cell_type": "markdown",
   "metadata": {},
   "source": [
    "FHE Class\n",
    "---------"
   ]
  },
  {
   "cell_type": "code",
   "execution_count": 2,
   "metadata": {},
   "outputs": [],
   "source": [
    "class FHE():\n",
    "    \"\"\"\n",
    "    Constructs a Fully Homomorphic Encryption Enviroment\n",
    "    \n",
    "    Constructs a new encryption environment who can be used as\n",
    "    an LWE_PKE object but also provides addition and multiplication\n",
    "    on encrypted ciphertexts and has security based on R-LWE\n",
    "    \n",
    "    Parameters\n",
    "    ----------\n",
    "    sec_lambda : int\n",
    "        security parameter which defines dimension, defaults to 512\n",
    "    \"\"\"\n",
    "    def __init__(self, sec_lambda=256):\n",
    "        R.<x> = PolynomialRing(ZZ)\n",
    "        self.R = QuotientRing(R, R.ideal(x^sec_lambda + 1))\n",
    "        \n",
    "        self._sk = self.SecretKeyGen(self.R)\n",
    "        \n",
    "        \n",
    "    def SecretKeyGen(self, R):\n",
    "        \"\"\"\n",
    "        Generates a (monic polynomial) secret key\n",
    "        \n",
    "        Parameters\n",
    "        ----------\n",
    "        R : Ring to generate monic key from\n",
    "        \n",
    "        Returns\n",
    "        -------\n",
    "        secret_key\n",
    "            a monic polynomial in R\n",
    "        \"\"\"\n",
    "        r_sam = R.random_element()\n",
    "        monic = R.lift(r_sam)%2\n",
    "        return R(monic)"
   ]
  },
  {
   "cell_type": "code",
   "execution_count": null,
   "metadata": {},
   "outputs": [],
   "source": []
  },
  {
   "cell_type": "markdown",
   "metadata": {},
   "source": [
    "Unit Tests\n",
    "--------------"
   ]
  },
  {
   "cell_type": "code",
   "execution_count": 3,
   "metadata": {},
   "outputs": [
    {
     "name": "stderr",
     "output_type": "stream",
     "text": [
      "test_secretKey (__main__.testFHE) ... ok\n",
      "\n",
      "----------------------------------------------------------------------\n",
      "Ran 1 test in 0.034s\n",
      "\n",
      "OK\n"
     ]
    }
   ],
   "source": [
    "class testFHE(unittest.TestCase):\n",
    "    def test_secretKey(self):\n",
    "        n = randint(1, 512)\n",
    "        fhe = FHE(n)\n",
    "        key = fhe._sk.lift()\n",
    "        coef = key.coefficients(sparse=False)\n",
    "        for i in coef:\n",
    "            if abs(i) not in [1, -1, 0]:\n",
    "                self.fail(\"non-monic secret key\")\n",
    "        self.assertLessEqual(key.degree(), n)\n",
    "        \n",
    "        \n",
    "\n",
    "if __name__ == '__main__':\n",
    "    unittest.main(argv=['-v'], verbosity=2, exit=False)"
   ]
  },
  {
   "cell_type": "code",
   "execution_count": null,
   "metadata": {},
   "outputs": [],
   "source": []
  }
 ],
 "metadata": {
  "kernelspec": {
   "display_name": "SageMath 9.2",
   "language": "sage",
   "name": "sagemath"
  },
  "language_info": {
   "codemirror_mode": {
    "name": "ipython",
    "version": 3
   },
   "file_extension": ".py",
   "mimetype": "text/x-python",
   "name": "python",
   "nbconvert_exporter": "python",
   "pygments_lexer": "ipython3",
   "version": "3.7.7"
  }
 },
 "nbformat": 4,
 "nbformat_minor": 4
}
