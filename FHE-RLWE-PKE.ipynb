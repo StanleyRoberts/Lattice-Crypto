{
 "cells": [
  {
   "cell_type": "markdown",
   "metadata": {},
   "source": [
    "Fully Homomorphic Encryption\n",
    "==========================\n",
    "\n",
    "This is a Fully Homomorphic Encryption system whose security is based on Ring-LWE.\n",
    "This system is an implementation of the Fan-Vercauteren FHE mechanism using Gentry's bootstrapping\n",
    "\n",
    "&nbsp;\n",
    "&nbsp;\n",
    "&nbsp;\n",
    "\n",
    "Imports\n",
    "-----------"
   ]
  },
  {
   "cell_type": "code",
   "execution_count": 15,
   "metadata": {},
   "outputs": [],
   "source": [
    "import unittest\n",
    "import random\n",
    "from sage.stats.distributions.discrete_gaussian_polynomial import DiscreteGaussianDistributionPolynomialSampler\n",
    "from sage.stats.distributions.discrete_gaussian_integer import DiscreteGaussianDistributionIntegerSampler"
   ]
  },
  {
   "cell_type": "markdown",
   "metadata": {},
   "source": [
    "FHE Class\n",
    "---------"
   ]
  },
  {
   "cell_type": "code",
   "execution_count": 208,
   "metadata": {},
   "outputs": [],
   "source": [
    "class FHE():\n",
    "    \"\"\"\n",
    "    Constructs a Fully Homomorphic Encryption Enviroment\n",
    "    \n",
    "    Constructs a new encryption environment who can be used as\n",
    "    an LWE_PKE object but also provides addition and multiplication\n",
    "    on encrypted ciphertexts and has security based on R-LWE\n",
    "    \n",
    "    Parameters\n",
    "    ----------\n",
    "    sec_lambda : int\n",
    "        security parameter which defines dimension, defaults to 512\n",
    "    \"\"\"\n",
    "    def __init__(self, sec_lambda=128):\n",
    "        log_delta = 1.8/(sec_lambda+110)\n",
    "        Hf = 1 #for simplicity assume parameterized family x^n+1\n",
    "        t = 2 #plaintext space\n",
    "        h = 63 #hamming weight\n",
    "        alpha, beta = 3.8, 9.2 #with e=2^-64\n",
    "        d=2^10 #set d=2^k (and q=2^n)\n",
    "        L_min = ceil(log(t * 2 * (Hf*h + 1) + 0.5, 2))\n",
    "        \n",
    "\n",
    "        top = log(4*alpha*beta*t^(L_min-1),2) + (2*L_min+1)*log(d,2)\n",
    "        bot = 2*sqrt(d*log_delta)\n",
    "        n=ceil((top/bot)^2)\n",
    "        self.q = 2^n #coefficient modulus\n",
    "        \n",
    "        R.<x> = PolynomialRing(Zmod(self.q))\n",
    "        self.R = QuotientRing(R, R.ideal(x^d + 1)) #univariate polynomial ring with f(x)=x^n+1 \n",
    "        \n",
    "        sigma=ceil((alpha*self.q)/2^(2*sqrt(d*log_delta*n)))      \n",
    "        self.chi = DiscreteGaussianDistributionPolynomialSampler(R, d, sigma)\n",
    "        \n",
    "        self._sk = self.SecretKeyGen()\n",
    "        self._pk = self.PublicKeyGen(self._sk)\n",
    "        \n",
    "    def SecretKeyGen(self):\n",
    "        \"\"\"\n",
    "        Generates a (monic polynomial) secret key\n",
    "        \n",
    "        Parameters\n",
    "        ----------\n",
    "        R : Ring to generate monic key from\n",
    "        \n",
    "        Returns\n",
    "        -------\n",
    "        secret_key\n",
    "            a monic polynomial in R\n",
    "        \"\"\"\n",
    "        ZZx = PolynomialRing(ZZ, 'x')\n",
    "        r_sam = self.R.random_element().lift()\n",
    "        monic = ZZx(r_sam)%2\n",
    "        return self.R(monic)\n",
    "    \n",
    "    def PublicKeyGen(self, sk):\n",
    "        \"\"\"\n",
    "        Generates a public key pair of polynomials\n",
    "        \n",
    "        Parameters\n",
    "        ----------\n",
    "        sk : secret key to generate public key from\n",
    "        \n",
    "        Returns\n",
    "        -------\n",
    "        public_key\n",
    "            a pair of two polynomials in R (a, b) where b is some random polynomial\n",
    "            and a is: b modified by the secret key and adjusted by some error\n",
    "        \"\"\"\n",
    "        a = self.R.random_element()\n",
    "        e = self.chi()\n",
    "        return (self.R(-a*sk+e), a)"
   ]
  },
  {
   "cell_type": "code",
   "execution_count": 209,
   "metadata": {
    "scrolled": true
   },
   "outputs": [],
   "source": [
    "fhe = FHE(128)"
   ]
  },
  {
   "cell_type": "markdown",
   "metadata": {},
   "source": [
    "Unit Tests\n",
    "--------------"
   ]
  },
  {
   "cell_type": "code",
   "execution_count": 3,
   "metadata": {},
   "outputs": [
    {
     "name": "stderr",
     "output_type": "stream",
     "text": [
      "test_secretKey (__main__.testFHE) ... ok\n",
      "\n",
      "----------------------------------------------------------------------\n",
      "Ran 1 test in 0.034s\n",
      "\n",
      "OK\n"
     ]
    }
   ],
   "source": [
    "class testFHE(unittest.TestCase):\n",
    "    def test_secretKey(self):\n",
    "        n = randint(1, 512)\n",
    "        fhe = FHE(n)\n",
    "        key = fhe._sk.lift()\n",
    "        coef = key.coefficients(sparse=False)\n",
    "        for i in coef:\n",
    "            if abs(i) not in [1, -1, 0]:\n",
    "                self.fail(\"non-monic secret key\")\n",
    "        self.assertLessEqual(key.degree(), n)\n",
    "        \n",
    "        \n",
    "\n",
    "if __name__ == '__main__':\n",
    "    unittest.main(argv=['-v'], verbosity=2, exit=False)"
   ]
  },
  {
   "cell_type": "code",
   "execution_count": null,
   "metadata": {},
   "outputs": [],
   "source": []
  }
 ],
 "metadata": {
  "kernelspec": {
   "display_name": "SageMath 9.2",
   "language": "sage",
   "name": "sagemath"
  },
  "language_info": {
   "codemirror_mode": {
    "name": "ipython",
    "version": 3
   },
   "file_extension": ".py",
   "mimetype": "text/x-python",
   "name": "python",
   "nbconvert_exporter": "python",
   "pygments_lexer": "ipython3",
   "version": "3.7.7"
  }
 },
 "nbformat": 4,
 "nbformat_minor": 4
}
