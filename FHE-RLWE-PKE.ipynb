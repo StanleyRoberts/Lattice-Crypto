{
 "cells": [
  {
   "cell_type": "markdown",
   "metadata": {},
   "source": [
    "Fully Homomorphic Encryption\n",
    "==========================\n",
    "\n",
    "This is a Fully Homomorphic Encryption system whose security is based on Ring-LWE.\n",
    "This system is an implementation of the Fan-Vercauteren FHE mechanism using Gentry's bootstrapping\n",
    "\n",
    "&nbsp;\n",
    "&nbsp;\n",
    "&nbsp;\n",
    "\n",
    "Imports\n",
    "-----------"
   ]
  },
  {
   "cell_type": "code",
   "execution_count": 3,
   "metadata": {},
   "outputs": [],
   "source": [
    "import unittest\n",
    "import random\n",
    "from sage.stats.distributions.discrete_gaussian_polynomial import DiscreteGaussianDistributionPolynomialSampler\n",
    "from sage.stats.distributions.discrete_gaussian_integer import DiscreteGaussianDistributionIntegerSampler"
   ]
  },
  {
   "cell_type": "code",
   "execution_count": 4,
   "metadata": {},
   "outputs": [],
   "source": [
    "def param_gen(sec, n):\n",
    "    '''\n",
    "    Generates appropriate parameters according to FHE standards\n",
    "    '''\n",
    "    table = [[29, 21, 16], [56, 39, 31], [111, 77, 60], [220, 154, 120], [440, 307, 239], [880, 612, 478]]\n",
    "    k = 0 if sec==128 else 1 if sec==192 else 2\n",
    "    m = log(n,2)-10\n",
    "    return table[m][k]"
   ]
  },
  {
   "cell_type": "markdown",
   "metadata": {},
   "source": [
    "FHE Class\n",
    "---------"
   ]
  },
  {
   "cell_type": "code",
   "execution_count": 9,
   "metadata": {},
   "outputs": [],
   "source": [
    "class SHE():\n",
    "    \"\"\"\n",
    "    Constructs a (Leveled) Fully Homomorphic Encryption Enviroment\n",
    "    \n",
    "    Constructs a new encryption environment who can be used as\n",
    "    an LWE_PKE object but also provides addition and multiplication\n",
    "    on encrypted ciphertexts and has security based on R-LWE\n",
    "    \n",
    "    Parameters\n",
    "    ----------\n",
    "    sec_lambda : int\n",
    "        security parameter which defines dimension, defaults to 512\n",
    "    \"\"\"\n",
    "    def __init__(self, sec_lambda=128, n=1024, error_dist=None):\n",
    "        k = param_gen(sec_lambda, n)\n",
    "        self.q = randint(2^k, 2^k+1)\n",
    "        \n",
    "        #TODO introduce balance function for ring elements\n",
    "        R.<x> = PolynomialRing(Zmod(self.q))\n",
    "        self.R = QuotientRing(R, R.ideal(x^n + 1)) #univariate polynomial ring with f(x)=x^n+1 \n",
    "        \n",
    "        self.chi = error_dist\n",
    "        if not error_dist:\n",
    "            sigma=8/sqrt(2*pi)\n",
    "            self.chi = DiscreteGaussianDistributionPolynomialSampler(self.R, n, sigma)\n",
    "        \n",
    "        self._sk = self.SecretKeyGen()\n",
    "        self._pk = self.PublicKeyGen(self._sk)\n",
    "        \n",
    "    def SecretKeyGen(self):\n",
    "        \"\"\"\n",
    "        Generates a (monic polynomial) secret key\n",
    "        \n",
    "        Parameters\n",
    "        ----------\n",
    "        R : Ring to generate monic key from\n",
    "        \n",
    "        Returns\n",
    "        -------\n",
    "        secret_key\n",
    "            a monic polynomial in R\n",
    "        \"\"\"\n",
    "        ZZx = PolynomialRing(ZZ, 'x')\n",
    "        r_sam = self.R.random_element().lift()\n",
    "        monic = ZZx(r_sam)%2\n",
    "        return self.R(monic)\n",
    "    \n",
    "    def PublicKeyGen(self, sk):\n",
    "        \"\"\"\n",
    "        Generates a public key pair of polynomials\n",
    "        \n",
    "        Parameters\n",
    "        ----------\n",
    "        sk : secret key to generate public key from\n",
    "        \n",
    "        Returns\n",
    "        -------\n",
    "        public_key\n",
    "            a pair of two polynomials in R (a, b) where b is some random polynomial\n",
    "            and a is: b modified by the secret key and adjusted by some error\n",
    "        \"\"\"\n",
    "        a = self.R.random_element()\n",
    "        e = self.chi()\n",
    "        return (self.R(-a*sk+e), a)\n",
    "    \n",
    "    \n",
    "class FHE(SHE):\n",
    "    '''\n",
    "    Implements a true fully homomorphic encryption enviroment using bootstrapping\n",
    "    This class only implements parameter selection and bootstrapping should be done externally.\n",
    "    '''\n",
    "    def __init(self):\n",
    "        log_delta = 1.8/(sec_lambda+110)\n",
    "        Hf = 1 #for simplicity assume parameterized family x^n+1\n",
    "        t = 2 #plaintext space\n",
    "        h = 63 #hamming weight\n",
    "        alpha, beta = 3.8, 9.2 #with e=2^-64\n",
    "        d=2^10 #set d=2^k (and q=2^n)\n",
    "        L_min = ceil(log(t * 2 * (Hf*h + 1) + 0.5, 2))\n",
    "        \n",
    "\n",
    "        top = log(4*alpha*beta*t^(L_min-1),2) + (2*L_min+1)*log(d,2)\n",
    "        bot = 2*sqrt(d*log_delta)\n",
    "        n=ceil((top/bot)^2)\n",
    "        self.q = 2^n #coefficient modulus\n",
    "        \n",
    "        R.<x> = PolynomialRing(Zmod(self.q))\n",
    "        self.R = QuotientRing(R, R.ideal(x^d + 1)) #univariate polynomial ring with f(x)=x^n+1 \n",
    "        \n",
    "        sigma=ceil((alpha*self.q)/2^(2*sqrt(d*log_delta*n)))      \n",
    "        self.chi = DiscreteGaussianDistributionPolynomialSampler(R, d, sigma)\n",
    "        \n",
    "        self._sk = self.SecretKeyGen()\n",
    "        self._pk = self.PublicKeyGen(self._sk)\n",
    "        "
   ]
  },
  {
   "cell_type": "code",
   "execution_count": 10,
   "metadata": {
    "scrolled": true
   },
   "outputs": [
    {
     "name": "stdout",
     "output_type": "stream",
     "text": [
      "2*xbar^1023 + 5*xbar^1022 + xbar^1020 + 2*xbar^1019 + xbar^1018 + 536870910*xbar^1017 + 3*xbar^1016 + 5*xbar^1015 + 2*xbar^1014 + 536870912*xbar^1013 + 536870908*xbar^1011 + 4*xbar^1010 + 536870912*xbar^1009 + 536870910*xbar^1008 + 3*xbar^1007 + 5*xbar^1006 + 3*xbar^1005 + 536870912*xbar^1004 + xbar^1003 + 7*xbar^1002 + 536870909*xbar^1001 + xbar^1000 + 536870911*xbar^999 + 536870910*xbar^998 + xbar^997 + xbar^996 + 2*xbar^995 + 3*xbar^994 + 2*xbar^993 + 536870910*xbar^991 + 3*xbar^990 + 536870911*xbar^989 + 536870901*xbar^988 + 536870912*xbar^987 + 536870910*xbar^986 + 536870912*xbar^985 + 4*xbar^984 + 4*xbar^983 + 536870910*xbar^982 + 5*xbar^981 + 536870912*xbar^980 + 536870912*xbar^979 + 536870912*xbar^978 + 536870911*xbar^977 + 536870912*xbar^976 + 536870911*xbar^975 + 536870910*xbar^974 + 536870911*xbar^973 + xbar^970 + 3*xbar^969 + xbar^968 + 536870909*xbar^967 + 536870910*xbar^966 + 536870908*xbar^965 + 6*xbar^964 + 2*xbar^963 + 536870910*xbar^962 + 536870909*xbar^961 + 536870910*xbar^960 + 4*xbar^959 + 536870908*xbar^958 + xbar^957 + 4*xbar^956 + 4*xbar^954 + 4*xbar^953 + 536870911*xbar^952 + 536870911*xbar^951 + 536870909*xbar^950 + 4*xbar^949 + 536870909*xbar^948 + 536870912*xbar^946 + 5*xbar^945 + 536870910*xbar^944 + xbar^943 + 3*xbar^942 + 2*xbar^941 + 536870912*xbar^940 + 536870908*xbar^939 + 5*xbar^938 + 536870910*xbar^937 + 5*xbar^936 + 536870912*xbar^935 + 536870910*xbar^934 + 536870910*xbar^933 + 2*xbar^932 + xbar^930 + 2*xbar^929 + xbar^928 + 2*xbar^927 + 2*xbar^925 + 536870912*xbar^924 + 536870909*xbar^923 + 536870911*xbar^921 + 536870908*xbar^920 + 536870910*xbar^919 + xbar^917 + 536870912*xbar^916 + 536870904*xbar^915 + xbar^913 + 536870909*xbar^912 + 536870908*xbar^911 + 536870911*xbar^910 + 536870912*xbar^909 + xbar^908 + 536870910*xbar^907 + 2*xbar^906 + 2*xbar^905 + 2*xbar^904 + 536870910*xbar^903 + 536870912*xbar^902 + 2*xbar^901 + 536870911*xbar^900 + xbar^899 + xbar^898 + 536870912*xbar^897 + 2*xbar^896 + 4*xbar^895 + 536870910*xbar^894 + 536870911*xbar^893 + 536870910*xbar^892 + 536870912*xbar^891 + 536870910*xbar^888 + xbar^887 + xbar^886 + 536870910*xbar^885 + 536870912*xbar^884 + 536870912*xbar^883 + 2*xbar^882 + 3*xbar^881 + 5*xbar^880 + 8*xbar^879 + 536870912*xbar^878 + xbar^875 + xbar^874 + 3*xbar^873 + 8*xbar^872 + 536870911*xbar^871 + 3*xbar^870 + 536870906*xbar^869 + xbar^868 + 536870911*xbar^867 + 6*xbar^866 + 536870908*xbar^864 + 3*xbar^863 + 3*xbar^861 + 3*xbar^860 + 2*xbar^859 + 7*xbar^858 + 536870910*xbar^857 + 536870912*xbar^856 + 2*xbar^855 + 536870908*xbar^854 + 4*xbar^853 + 7*xbar^852 + xbar^848 + 536870911*xbar^845 + 3*xbar^843 + 536870912*xbar^841 + 536870909*xbar^840 + xbar^838 + 536870912*xbar^837 + xbar^836 + 2*xbar^835 + 536870912*xbar^834 + 6*xbar^833 + 536870912*xbar^832 + 3*xbar^829 + xbar^828 + xbar^827 + 536870912*xbar^826 + 3*xbar^825 + 2*xbar^824 + 536870911*xbar^823 + 2*xbar^822 + xbar^821 + 536870912*xbar^820 + 536870912*xbar^818 + 536870910*xbar^816 + 536870910*xbar^815 + 2*xbar^814 + 4*xbar^813 + 2*xbar^812 + 536870908*xbar^811 + 536870912*xbar^810 + 536870907*xbar^809 + 536870911*xbar^808 + 4*xbar^807 + 4*xbar^806 + 536870911*xbar^805 + 536870908*xbar^804 + 536870910*xbar^803 + xbar^802 + 2*xbar^801 + 3*xbar^800 + 2*xbar^798 + 536870909*xbar^796 + 536870911*xbar^795 + 2*xbar^793 + 536870912*xbar^792 + 6*xbar^791 + 536870912*xbar^790 + xbar^789 + 536870912*xbar^788 + 3*xbar^787 + 536870910*xbar^785 + 536870911*xbar^784 + 536870910*xbar^783 + 6*xbar^782 + 536870911*xbar^780 + 536870910*xbar^779 + 536870911*xbar^778 + 536870903*xbar^777 + 536870910*xbar^776 + 536870910*xbar^775 + 536870912*xbar^773 + xbar^772 + 536870912*xbar^771 + 536870911*xbar^770 + 536870912*xbar^769 + 536870909*xbar^768 + xbar^767 + xbar^765 + 5*xbar^764 + 3*xbar^762 + xbar^761 + 3*xbar^760 + 536870907*xbar^758 + xbar^757 + 536870912*xbar^755 + 536870912*xbar^754 + 536870911*xbar^753 + xbar^752 + xbar^751 + 536870910*xbar^750 + xbar^749 + 536870912*xbar^748 + 2*xbar^747 + 536870911*xbar^746 + 4*xbar^745 + 536870911*xbar^744 + 6*xbar^743 + 3*xbar^741 + 2*xbar^740 + 536870909*xbar^739 + 536870912*xbar^738 + 2*xbar^736 + 536870909*xbar^735 + 3*xbar^734 + 3*xbar^733 + xbar^732 + 536870906*xbar^731 + 536870908*xbar^730 + 2*xbar^729 + 2*xbar^728 + 6*xbar^727 + 3*xbar^725 + 536870909*xbar^724 + 5*xbar^723 + 536870911*xbar^722 + 7*xbar^721 + 536870911*xbar^720 + 536870909*xbar^719 + 536870911*xbar^718 + 7*xbar^717 + 536870912*xbar^716 + 4*xbar^715 + 536870909*xbar^714 + 536870908*xbar^712 + xbar^711 + 536870911*xbar^710 + xbar^709 + xbar^708 + 4*xbar^707 + 536870906*xbar^706 + 536870909*xbar^705 + 536870909*xbar^704 + 4*xbar^703 + 2*xbar^702 + xbar^701 + 2*xbar^700 + 4*xbar^698 + 536870912*xbar^697 + 536870909*xbar^696 + xbar^694 + 536870906*xbar^693 + 3*xbar^692 + 536870907*xbar^690 + 2*xbar^689 + 7*xbar^688 + 536870911*xbar^687 + 536870909*xbar^686 + 536870909*xbar^685 + 536870911*xbar^684 + 536870911*xbar^683 + 536870911*xbar^682 + 2*xbar^681 + 536870911*xbar^680 + 4*xbar^679 + 536870912*xbar^678 + 536870912*xbar^677 + 536870907*xbar^676 + 536870911*xbar^675 + 536870912*xbar^674 + 536870910*xbar^673 + xbar^672 + 536870911*xbar^671 + 536870912*xbar^670 + 536870912*xbar^669 + 536870912*xbar^668 + 6*xbar^667 + 5*xbar^666 + 4*xbar^665 + 4*xbar^664 + 11*xbar^663 + 536870911*xbar^662 + xbar^661 + 2*xbar^660 + 536870912*xbar^659 + 536870911*xbar^658 + 536870911*xbar^657 + 536870912*xbar^656 + 2*xbar^655 + 536870909*xbar^654 + 3*xbar^653 + xbar^652 + 536870910*xbar^651 + 2*xbar^650 + 536870910*xbar^649 + 536870907*xbar^648 + 2*xbar^647 + 5*xbar^646 + 5*xbar^645 + 536870912*xbar^644 + 536870910*xbar^643 + 7*xbar^642 + 2*xbar^641 + 536870908*xbar^640 + 536870908*xbar^639 + xbar^638 + 536870908*xbar^637 + 536870911*xbar^636 + 4*xbar^635 + 5*xbar^634 + 536870911*xbar^633 + 536870912*xbar^631 + xbar^630 + 4*xbar^629 + 536870910*xbar^628 + xbar^627 + 536870909*xbar^626 + 2*xbar^625 + 536870911*xbar^624 + xbar^623 + 536870909*xbar^622 + xbar^621 + 7*xbar^620 + 2*xbar^618 + 536870911*xbar^617 + 536870912*xbar^616 + 536870911*xbar^615 + 3*xbar^614 + 536870905*xbar^613 + 536870912*xbar^612 + 2*xbar^611 + 536870912*xbar^610 + 536870911*xbar^609 + 536870910*xbar^608 + xbar^607 + xbar^606 + 5*xbar^605 + 536870911*xbar^604 + 3*xbar^603 + 536870911*xbar^602 + 536870910*xbar^601 + 2*xbar^600 + 536870910*xbar^599 + 2*xbar^598 + 536870910*xbar^597 + 5*xbar^596 + 2*xbar^595 + 3*xbar^594 + 536870906*xbar^593 + 536870912*xbar^592 + 536870911*xbar^591 + 536870908*xbar^590 + 536870911*xbar^589 + 2*xbar^588 + 2*xbar^587 + 4*xbar^586 + 3*xbar^585 + 536870910*xbar^584 + 536870912*xbar^583 + 7*xbar^582 + 536870911*xbar^581 + 536870910*xbar^580 + xbar^579 + 536870912*xbar^578 + xbar^577 + 536870909*xbar^576 + 3*xbar^572 + 2*xbar^571 + 6*xbar^570 + 3*xbar^569 + 2*xbar^567 + 2*xbar^566 + 5*xbar^563 + 2*xbar^562 + 536870912*xbar^561 + 2*xbar^560 + 2*xbar^557 + 2*xbar^556 + 536870906*xbar^555 + 2*xbar^554 + xbar^553 + 536870912*xbar^552 + 5*xbar^551 + 4*xbar^550 + 536870909*xbar^549 + 2*xbar^548 + 536870912*xbar^547 + 536870912*xbar^546 + 536870912*xbar^545 + 536870909*xbar^544 + 536870912*xbar^543 + 2*xbar^542 + 3*xbar^541 + 536870907*xbar^540 + 536870911*xbar^539 + 536870912*xbar^537 + 3*xbar^536 + 3*xbar^535 + 3*xbar^534 + 536870911*xbar^533 + 3*xbar^532 + 536870912*xbar^531 + xbar^530 + 536870907*xbar^529 + 2*xbar^528 + 536870907*xbar^527 + 536870912*xbar^526 + 536870907*xbar^525 + 536870909*xbar^524 + xbar^523 + 5*xbar^522 + 536870912*xbar^521 + 536870912*xbar^520 + 536870912*xbar^519 + 3*xbar^518 + 3*xbar^517 + 536870912*xbar^516 + 4*xbar^515 + 536870912*xbar^514 + 3*xbar^512 + 536870910*xbar^511 + 536870912*xbar^510 + 6*xbar^509 + 536870909*xbar^508 + 536870911*xbar^507 + 536870912*xbar^506 + 2*xbar^505 + 536870912*xbar^504 + xbar^503 + 3*xbar^502 + xbar^501 + xbar^500 + xbar^499 + 536870910*xbar^498 + xbar^497 + 536870910*xbar^496 + 536870910*xbar^495 + 536870910*xbar^494 + 536870911*xbar^493 + 536870910*xbar^492 + 2*xbar^491 + 536870909*xbar^490 + 536870907*xbar^489 + xbar^487 + 536870910*xbar^485 + 2*xbar^484 + 536870908*xbar^483 + xbar^482 + 536870912*xbar^481 + 536870912*xbar^480 + 536870909*xbar^479 + 3*xbar^477 + 3*xbar^476 + 536870910*xbar^475 + 536870909*xbar^474 + xbar^473 + 536870912*xbar^471 + 536870912*xbar^470 + 536870909*xbar^469 + 536870907*xbar^468 + 536870910*xbar^467 + 536870911*xbar^466 + 536870907*xbar^465 + 4*xbar^464 + 2*xbar^462 + 2*xbar^461 + 536870910*xbar^460 + 536870912*xbar^459 + 536870912*xbar^458 + xbar^457 + 5*xbar^456 + xbar^455 + 536870911*xbar^454 + 536870912*xbar^453 + 536870909*xbar^452 + 2*xbar^451 + 2*xbar^450 + 536870912*xbar^448 + 2*xbar^447 + 4*xbar^446 + 2*xbar^444 + 536870911*xbar^443 + 3*xbar^442 + 536870908*xbar^441 + 536870909*xbar^439 + 4*xbar^438 + 5*xbar^437 + 536870911*xbar^436 + 9*xbar^435 + 536870907*xbar^434 + 2*xbar^432 + xbar^431 + xbar^430 + 2*xbar^429 + 3*xbar^428 + 536870910*xbar^427 + 536870910*xbar^426 + 536870909*xbar^425 + 536870912*xbar^424 + 2*xbar^423 + 536870909*xbar^422 + 536870910*xbar^421 + 536870905*xbar^420 + 2*xbar^419 + 3*xbar^417 + 536870908*xbar^416 + 536870912*xbar^415 + 536870911*xbar^413 + xbar^412 + 3*xbar^411 + xbar^410 + 536870909*xbar^409 + xbar^408 + 536870910*xbar^407 + 536870908*xbar^406 + xbar^405 + 536870912*xbar^404 + 11*xbar^402 + 536870912*xbar^400 + 9*xbar^399 + 536870910*xbar^398 + 5*xbar^397 + 536870911*xbar^396 + 536870912*xbar^395 + 536870910*xbar^394 + 536870905*xbar^393 + 536870909*xbar^392 + 536870912*xbar^391 + 4*xbar^390 + 4*xbar^389 + 536870912*xbar^388 + 536870911*xbar^387 + 2*xbar^386 + 5*xbar^385 + 536870911*xbar^384 + 3*xbar^383 + 536870912*xbar^382 + 2*xbar^381 + 536870912*xbar^380 + xbar^379 + 2*xbar^378 + 536870910*xbar^377 + 3*xbar^376 + 2*xbar^375 + xbar^373 + 536870910*xbar^372 + 536870911*xbar^371 + 536870910*xbar^370 + 536870911*xbar^369 + 4*xbar^368 + 536870911*xbar^367 + 536870912*xbar^366 + 536870907*xbar^365 + 536870911*xbar^364 + 2*xbar^363 + 536870910*xbar^362 + 4*xbar^361 + 536870909*xbar^360 + 4*xbar^359 + 536870911*xbar^358 + 536870910*xbar^356 + 3*xbar^355 + 3*xbar^354 + 536870910*xbar^353 + xbar^352 + xbar^351 + 7*xbar^350 + xbar^349 + 5*xbar^348 + xbar^347 + 3*xbar^346 + 536870909*xbar^345 + xbar^343 + 536870912*xbar^342 + 2*xbar^341 + 536870909*xbar^340 + 5*xbar^339 + 4*xbar^338 + xbar^337 + 536870912*xbar^336 + 536870910*xbar^335 + 536870912*xbar^334 + 536870911*xbar^333 + 536870910*xbar^332 + 3*xbar^331 + 536870911*xbar^330 + 536870908*xbar^329 + 536870911*xbar^328 + 536870911*xbar^327 + 536870912*xbar^325 + 536870908*xbar^324 + 536870910*xbar^323 + 536870908*xbar^322 + 536870911*xbar^321 + 536870912*xbar^320 + 536870910*xbar^319 + 536870911*xbar^318 + 536870912*xbar^317 + 3*xbar^316 + 536870911*xbar^315 + 536870912*xbar^314 + 536870908*xbar^313 + 2*xbar^312 + 536870910*xbar^310 + 3*xbar^309 + 536870908*xbar^307 + 2*xbar^306 + xbar^305 + 536870912*xbar^304 + 2*xbar^303 + 536870909*xbar^302 + 536870910*xbar^301 + 536870910*xbar^300 + 2*xbar^299 + 4*xbar^298 + 3*xbar^297 + 536870912*xbar^296 + 3*xbar^295 + 536870912*xbar^294 + 536870909*xbar^293 + 536870912*xbar^291 + 2*xbar^290 + 536870910*xbar^289 + xbar^288 + 536870910*xbar^287 + 536870909*xbar^286 + 3*xbar^285 + 2*xbar^284 + 536870912*xbar^283 + 3*xbar^282 + 536870904*xbar^281 + 536870912*xbar^280 + 536870912*xbar^278 + 536870912*xbar^277 + 536870910*xbar^276 + 536870909*xbar^275 + 3*xbar^274 + 536870907*xbar^272 + 7*xbar^271 + 536870912*xbar^270 + 2*xbar^269 + 4*xbar^268 + 3*xbar^267 + xbar^266 + 536870912*xbar^265 + 536870909*xbar^264 + 3*xbar^262 + 536870911*xbar^261 + 3*xbar^260 + 536870912*xbar^259 + 536870912*xbar^258 + 4*xbar^257 + 536870912*xbar^255 + 536870910*xbar^252 + 5*xbar^251 + 536870909*xbar^250 + 3*xbar^249 + 536870909*xbar^248 + 536870911*xbar^247 + 5*xbar^246 + 536870909*xbar^245 + 536870911*xbar^244 + 536870912*xbar^243 + 10*xbar^242 + 536870909*xbar^241 + 536870906*xbar^240 + 536870910*xbar^239 + xbar^238 + 536870909*xbar^237 + 7*xbar^236 + 536870909*xbar^235 + 536870908*xbar^234 + 536870912*xbar^233 + 4*xbar^232 + 3*xbar^231 + xbar^230 + 2*xbar^229 + 536870909*xbar^228 + 536870912*xbar^227 + xbar^226 + xbar^225 + 536870911*xbar^223 + 4*xbar^222 + 2*xbar^221 + 536870911*xbar^220 + 3*xbar^219 + 536870912*xbar^218 + 536870911*xbar^217 + xbar^216 + 3*xbar^215 + 536870910*xbar^214 + 2*xbar^213 + 536870909*xbar^212 + 536870912*xbar^211 + 2*xbar^210 + 2*xbar^209 + 536870912*xbar^207 + xbar^206 + 3*xbar^205 + xbar^204 + 536870909*xbar^203 + 536870911*xbar^202 + 536870909*xbar^201 + 536870911*xbar^199 + 536870912*xbar^198 + 536870912*xbar^197 + xbar^195 + 536870911*xbar^194 + 536870909*xbar^193 + xbar^192 + 5*xbar^190 + 536870909*xbar^189 + 536870910*xbar^188 + 7*xbar^187 + 4*xbar^186 + xbar^184 + 2*xbar^183 + 2*xbar^182 + 536870907*xbar^181 + 536870906*xbar^179 + 3*xbar^177 + 3*xbar^176 + 4*xbar^175 + 536870911*xbar^174 + 536870911*xbar^172 + 536870908*xbar^171 + 536870911*xbar^170 + xbar^169 + 536870910*xbar^168 + 2*xbar^167 + 4*xbar^166 + 6*xbar^165 + 4*xbar^164 + 536870909*xbar^163 + xbar^162 + xbar^159 + 536870909*xbar^158 + 3*xbar^157 + 3*xbar^156 + 536870911*xbar^155 + 2*xbar^153 + 3*xbar^152 + 536870912*xbar^151 + 4*xbar^150 + 3*xbar^149 + 536870911*xbar^148 + 536870909*xbar^147 + 536870909*xbar^145 + 3*xbar^144 + xbar^143 + 536870911*xbar^141 + 536870911*xbar^140 + 536870912*xbar^135 + xbar^134 + 7*xbar^133 + 3*xbar^132 + 536870911*xbar^130 + 536870911*xbar^129 + xbar^128 + 536870911*xbar^127 + 2*xbar^125 + 536870910*xbar^124 + xbar^123 + 536870910*xbar^122 + 536870907*xbar^121 + 6*xbar^120 + 536870912*xbar^119 + 536870910*xbar^116 + 4*xbar^115 + 4*xbar^114 + 536870909*xbar^112 + 536870905*xbar^111 + 536870912*xbar^110 + 3*xbar^109 + 6*xbar^107 + 2*xbar^106 + 2*xbar^105 + 6*xbar^104 + 536870910*xbar^103 + 536870912*xbar^101 + 536870909*xbar^100 + xbar^99 + 536870912*xbar^98 + 3*xbar^97 + xbar^96 + 536870912*xbar^94 + 536870912*xbar^93 + 2*xbar^92 + 536870912*xbar^91 + 536870906*xbar^90 + 2*xbar^88 + xbar^86 + 4*xbar^85 + 2*xbar^84 + 4*xbar^81 + 536870904*xbar^80 + 3*xbar^79 + 2*xbar^78 + 536870911*xbar^77 + 3*xbar^76 + 536870912*xbar^75 + xbar^74 + 536870910*xbar^73 + 536870908*xbar^70 + 536870911*xbar^69 + 536870908*xbar^68 + 4*xbar^67 + 6*xbar^66 + 536870912*xbar^65 + 536870912*xbar^64 + 5*xbar^63 + 536870912*xbar^62 + 5*xbar^61 + 536870911*xbar^60 + 3*xbar^59 + 3*xbar^58 + 536870906*xbar^57 + 2*xbar^56 + 536870909*xbar^55 + 3*xbar^54 + 2*xbar^53 + 536870910*xbar^52 + 2*xbar^51 + 536870911*xbar^49 + 3*xbar^47 + 4*xbar^46 + 536870911*xbar^45 + 536870912*xbar^44 + 2*xbar^43 + 536870911*xbar^42 + 536870911*xbar^41 + 536870912*xbar^40 + 536870911*xbar^39 + 3*xbar^38 + xbar^37 + 536870911*xbar^36 + 536870911*xbar^35 + 536870911*xbar^33 + xbar^30 + 2*xbar^29 + 2*xbar^28 + 536870906*xbar^27 + xbar^26 + 6*xbar^25 + 536870908*xbar^24 + xbar^23 + xbar^21 + 536870909*xbar^20 + 536870911*xbar^19 + 536870911*xbar^18 + xbar^17 + 536870912*xbar^16 + 5*xbar^13 + xbar^11 + 2*xbar^10 + 536870910*xbar^8 + 2*xbar^7 + xbar^6 + 536870912*xbar^5 + 536870909*xbar^4 + 536870910*xbar^3 + 536870910*xbar^2 + 536870912*xbar + 536870909\n"
     ]
    }
   ],
   "source": [
    "fhe = FHE(128)"
   ]
  },
  {
   "cell_type": "markdown",
   "metadata": {},
   "source": [
    "Unit Tests\n",
    "--------------"
   ]
  },
  {
   "cell_type": "code",
   "execution_count": 3,
   "metadata": {},
   "outputs": [
    {
     "name": "stderr",
     "output_type": "stream",
     "text": [
      "test_secretKey (__main__.testFHE) ... ok\n",
      "\n",
      "----------------------------------------------------------------------\n",
      "Ran 1 test in 0.034s\n",
      "\n",
      "OK\n"
     ]
    }
   ],
   "source": [
    "class testFHE(unittest.TestCase):\n",
    "    def test_secretKey(self):\n",
    "        n = randint(1, 512)\n",
    "        fhe = FHE(n)\n",
    "        key = fhe._sk.lift()\n",
    "        coef = key.coefficients(sparse=False)\n",
    "        for i in coef:\n",
    "            if abs(i) not in [1, -1, 0]:\n",
    "                self.fail(\"non-monic secret key\")\n",
    "        self.assertLessEqual(key.degree(), n)\n",
    "        \n",
    "        \n",
    "\n",
    "if __name__ == '__main__':\n",
    "    unittest.main(argv=['-v'], verbosity=2, exit=False)"
   ]
  },
  {
   "cell_type": "code",
   "execution_count": null,
   "metadata": {},
   "outputs": [],
   "source": []
  }
 ],
 "metadata": {
  "kernelspec": {
   "display_name": "SageMath 9.2",
   "language": "sage",
   "name": "sagemath"
  },
  "language_info": {
   "codemirror_mode": {
    "name": "ipython",
    "version": 3
   },
   "file_extension": ".py",
   "mimetype": "text/x-python",
   "name": "python",
   "nbconvert_exporter": "python",
   "pygments_lexer": "ipython3",
   "version": "3.7.7"
  }
 },
 "nbformat": 4,
 "nbformat_minor": 4
}
