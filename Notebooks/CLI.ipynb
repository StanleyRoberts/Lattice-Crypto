{
 "cells": [
  {
   "cell_type": "markdown",
   "metadata": {},
   "source": [
    "CLI for Lattice System\n",
    "==================\n",
    "Part of a project by Stanley Roberts on Lattice Cryptography  \n",
    "This code is a demonstration command-line interface using the LWE module\n",
    "\n",
    "&nbsp;\n",
    "&nbsp;\n",
    "&nbsp;\n",
    "\n",
    "Imports\n",
    "-----------"
   ]
  },
  {
   "cell_type": "code",
   "execution_count": null,
   "metadata": {
    "scrolled": true
   },
   "outputs": [],
   "source": [
    "import import_ipynb\n",
    "\n",
    "import LWE_PKE"
   ]
  },
  {
   "cell_type": "markdown",
   "metadata": {},
   "source": [
    "Module Info\n",
    "-----------------\n",
    "To model a 'singleton' CLI object in a Pythonic way we define a module that provides a function for CLI."
   ]
  },
  {
   "cell_type": "code",
   "execution_count": null,
   "metadata": {},
   "outputs": [],
   "source": [
    "\"\"\"\n",
    "Name\n",
    "----\n",
    "CLI\n",
    "\n",
    "Description\n",
    "-----------\n",
    "This module implements a singleton instance of a command-line intergace\n",
    "for an LWE public key encryption. It models how to use the LWE_PKE module\n",
    "\n",
    "Contents\n",
    "--------\n",
    "CLI : runs a command-line interface of LWE\n",
    "\"\"\""
   ]
  },
  {
   "cell_type": "code",
   "execution_count": null,
   "metadata": {},
   "outputs": [],
   "source": [
    "def CLI():\n",
    "    \"\"\"\n",
    "        A very basic linear CLI walkthrough ofan LWE interaction\n",
    "        \n",
    "        Parameters\n",
    "        ----------\n",
    "        \n",
    "        choice : string\n",
    "            determines if CLI is run in bitmode, a value other than the string 'y' runs CLI in full mode\n",
    "    \n",
    "    \"\"\"\n",
    "    print(\"Run CLI in bit-mode? (y/n)\")\n",
    "    choice = input()\n",
    "    \n",
    "    while (choice not in [\"y\", \"n\"]):\n",
    "        print(\"Did not understand input, please try again:\")\n",
    "        choice = input()\n",
    "    \n",
    "    if choice==\"y\":\n",
    "        print(\"Notice! Running in bit-mode\")\n",
    "        choice=False\n",
    "    else: choice=True\n",
    "    print(\"Running LWE command-line interface for messaging from Alice to Bob\\nInstanciating LWE...\\n\")\n",
    "    alice = bob = None\n",
    "    alice = LWE_PKE.createLWE(n=10, mb=choice)\n",
    "    bob = LWE_PKE.createLWE(n=10, mb=choice)\n",
    "\n",
    "    apk = alice.getPublicKey()\n",
    "    bpk = bob.getPublicKey()\n",
    "    \n",
    "    print(\"Here is Alice's public key:\")\n",
    "    print(apk)\n",
    "    print(\"\\n\\n\\nHere is Bob's public key:\")\n",
    "    print(bpk)\n",
    "    \n",
    "    print(\"\\n\\nWhat message would you like Alice to encrypt?\")\n",
    "    message = input()\n",
    "    \n",
    "    while not all(b in [\"0\", \"1\"] for b in message):\n",
    "        print(\"not a bit(string), please try again:\")\n",
    "        message = input()\n",
    "        \n",
    "    print(\"\\nEncrypting message...\")\n",
    "    cipher = alice.enc(message, bpk)\n",
    "\n",
    "    print(\"\\nAlice's ciphertext:\")\n",
    "    print(cipher)\n",
    "     \n",
    "    print(\"\\nDecrypting message...\")\n",
    "    plain = bob.dec(cipher)\n",
    "    print(\"\\nBob's decrypted plaintext:\")\n",
    "    print(plain)\n",
    "    \n",
    "    input(\"\\nMessage decrypted, Press enter to terminate...\")\n"
   ]
  },
  {
   "cell_type": "code",
   "execution_count": null,
   "metadata": {},
   "outputs": [],
   "source": [
    "if __name__ == '__main__':\n",
    "    CLI()"
   ]
  },
  {
   "cell_type": "markdown",
   "metadata": {},
   "source": [
    "# "
   ]
  }
 ],
 "metadata": {
  "kernelspec": {
   "display_name": "SageMath 9.2",
   "language": "sage",
   "name": "sagemath"
  },
  "language_info": {
   "codemirror_mode": {
    "name": "ipython",
    "version": 3
   },
   "file_extension": ".py",
   "mimetype": "text/x-python",
   "name": "python",
   "nbconvert_exporter": "python",
   "pygments_lexer": "ipython3",
   "version": "3.7.7"
  }
 },
 "nbformat": 4,
 "nbformat_minor": 4
}
