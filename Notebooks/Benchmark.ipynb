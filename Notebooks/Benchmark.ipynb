{
 "cells": [
  {
   "cell_type": "code",
   "execution_count": 1,
   "metadata": {},
   "outputs": [
    {
     "name": "stdout",
     "output_type": "stream",
     "text": [
      "importing Jupyter notebook from LWE_PKE.ipynb\n",
      "importing Jupyter notebook from FHE_RLWE.ipynb\n"
     ]
    }
   ],
   "source": [
    "import import_ipynb\n",
    "\n",
    "import LWE_PKE\n",
    "import FHE_RLWE"
   ]
  },
  {
   "cell_type": "markdown",
   "metadata": {},
   "source": [
    "Benchmarking\n",
    "============\n",
    "Here we benchmark standard LWE and Ring-LWE to demonstrate the efficiency the R-LWE provides.\n",
    "We use appropriate parameters to generate an equal level of bit security (128) for both and use message sizes of 32"
   ]
  },
  {
   "cell_type": "code",
   "execution_count": 8,
   "metadata": {},
   "outputs": [
    {
     "name": "stdout",
     "output_type": "stream",
     "text": [
      "Benchmarking Standard LWE PKE at bit security 128, message size 32\n",
      "******************************************************************\n",
      "\n",
      "Public Key Generation time:\n",
      "5 loops, best of 3: 42.9 s per loop\n",
      "\n",
      "Encryption time:\n",
      "5 loops, best of 3: 11.2 s per loop\n",
      "\n",
      "Decryption time:\n",
      "625 loops, best of 3: 362 μs per loop\n"
     ]
    }
   ],
   "source": [
    "\n",
    "print(\"Benchmarking Standard LWE PKE at bit security 128, message size 32\\n\"\\\n",
    "      \"******************************************************************\")\n",
    "lwe = LWE_PKE.createLWE(n=752, mb=True, q=random_prime(2^16-1, True, 2^15), l=32)\n",
    "print(\"\\nPublic Key Generation time:\")\n",
    "print(timeit('lwe = LWE_PKE.createLWE(n=752, mb=True, q=random_prime( 2^16-1, True, 2^15), l=32)'))\n",
    "\n",
    "apk = lwe.getPublicKey()\n",
    "\n",
    "print(\"\\nEncryption time:\")\n",
    "print(timeit('binary = \\'\\'.join(map(lambda x: str(x), [randint(0, 1) for i in range(0, 32)]))\\nlwe.encrypt(binary, apk)'))\n",
    "\n",
    "binary = ''.join(map(lambda x: str(x), [randint(0, 1) for i in range(0, 32)]))\n",
    "cipher = lwe.encrypt(binary, apk)\n",
    "\n",
    "print(\"\\nDecryption time:\")\n",
    "print(timeit('lwe.decrypt(cipher)'))"
   ]
  },
  {
   "cell_type": "code",
   "execution_count": 7,
   "metadata": {},
   "outputs": [
    {
     "name": "stdout",
     "output_type": "stream",
     "text": [
      "\n",
      "\n",
      "Benchmarking Ring LWE PKE at bit security 128, message size 32\n",
      "**************************************************************\n",
      "\n",
      "Public Key Generation time:\n",
      "5 loops, best of 3: 591 ms per loop\n",
      "\n",
      "Encryption time:\n",
      "5 loops, best of 3: 542 ms per loop\n",
      "\n",
      "Decryption time:\n",
      "25 loops, best of 3: 37.5 ms per loop\n"
     ]
    }
   ],
   "source": [
    "print(\"\\n\\nBenchmarking Ring LWE PKE at bit security 128, message size 32\\n\"\\\n",
    "      \"**************************************************************\")\n",
    "lwe = FHE_RLWE.createFHE(sec_lambda=128, n=1024)\n",
    "print(\"\\nPublic Key Generation time:\")\n",
    "print(timeit('lwe = FHE_RLWE.createFHE(sec_lambda=128, n=1024)'))\n",
    "\n",
    "apk = lwe.getPublicKey()\n",
    "\n",
    "print(\"\\nEncryption time:\")\n",
    "print(timeit('binary = [randint(0, 1) for i in range(0, 32)]\\nlwe.encrypt(binary, apk)'))\n",
    "\n",
    "binary = [randint(0, 1) for i in range(0, 32)]\n",
    "cipher = lwe.encrypt(binary, apk)\n",
    "\n",
    "print(\"\\nDecryption time:\")\n",
    "print(timeit('lwe.decrypt(cipher)'))"
   ]
  }
 ],
 "metadata": {
  "kernelspec": {
   "display_name": "SageMath 9.2",
   "language": "sage",
   "name": "sagemath"
  },
  "language_info": {
   "codemirror_mode": {
    "name": "ipython",
    "version": 3
   },
   "file_extension": ".py",
   "mimetype": "text/x-python",
   "name": "python",
   "nbconvert_exporter": "python",
   "pygments_lexer": "ipython3",
   "version": "3.7.7"
  }
 },
 "nbformat": 4,
 "nbformat_minor": 4
}
