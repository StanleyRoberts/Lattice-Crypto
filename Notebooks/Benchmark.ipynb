{
 "cells": [
  {
   "cell_type": "code",
   "execution_count": 1,
   "metadata": {},
   "outputs": [
    {
     "name": "stdout",
     "output_type": "stream",
     "text": [
      "importing Jupyter notebook from LWE_PKE.ipynb\n",
      "importing Jupyter notebook from FHE_RLWE.ipynb\n",
      "3\n"
     ]
    }
   ],
   "source": [
    "import import_ipynb\n",
    "\n",
    "import LWE_PKE\n",
    "import FHE_RLWE"
   ]
  },
  {
   "cell_type": "markdown",
   "metadata": {},
   "source": [
    "Benchmarking\n",
    "============\n",
    "Here we benchmark standard LWE and Ring-LWE to demonstrate the efficiency the R-LWE provides.\n",
    "We use appropriate parameters to generate an equal level of bit security (128) for both and use message sizes of 32"
   ]
  },
  {
   "cell_type": "code",
   "execution_count": 2,
   "metadata": {},
   "outputs": [
    {
     "name": "stdout",
     "output_type": "stream",
     "text": [
      "Benchmarking Standard LWE PKE at bit security 128, message size 32\n",
      "******************************************************************\n",
      "\n",
      "Public Key Generation time:\n",
      "5 loops, best of 3: 4.17 s per loop\n",
      "\n",
      "Encryption time:\n",
      "5 loops, best of 3: 1.05 s per loop\n",
      "\n",
      "Decryption time:\n",
      "25 loops, best of 3: 335 μs per loop\n"
     ]
    }
   ],
   "source": [
    "print(\"Benchmarking Standard LWE PKE at bit security 128, message size 32\\n\"\\\n",
    "      \"******************************************************************\")\n",
    "lwe = LWE_PKE.createLWE(n=214, mb=True, q=random_prime(2^18-1, True, 2^17), l=32)\n",
    "print(\"\\nPublic Key Generation time:\")\n",
    "print(timeit('lwe = LWE_PKE.createLWE(n=214, mb=True, q=random_prime( 2^18-1, True, 2^17), l=32)', number=5))\n",
    "\n",
    "apk = lwe.getPublicKey()\n",
    "\n",
    "print(\"\\nEncryption time:\")\n",
    "print(timeit('binary = \\'\\'.join(map(lambda x: str(x), [randint(0, 1) for i in range(0, 32)]))\\nlwe.encrypt(binary, apk)'\n",
    "             , number=5))\n",
    "\n",
    "binary = ''.join(map(lambda x: str(x), [randint(0, 1) for i in range(0, 32)]))\n",
    "cipher = lwe.encrypt(binary, apk)\n",
    "\n",
    "print(\"\\nDecryption time:\")\n",
    "print(timeit('lwe.decrypt(cipher)', number=25))"
   ]
  },
  {
   "cell_type": "code",
   "execution_count": 4,
   "metadata": {},
   "outputs": [
    {
     "name": "stdout",
     "output_type": "stream",
     "text": [
      "\n",
      "\n",
      "Benchmarking Ring LWE PKE at bit security 128, message size 32\n",
      "**************************************************************\n",
      "\n",
      "Public Key Generation time:\n",
      "5 loops, best of 3: 5.2 ms per loop\n",
      "\n",
      "Encryption time:\n",
      "5 loops, best of 3: 85.5 ms per loop\n",
      "\n",
      "Decryption time:\n",
      "25 loops, best of 3: 8.47 ms per loop\n"
     ]
    }
   ],
   "source": [
    "print(\"\\n\\nBenchmarking Ring LWE PKE at bit security 128, message size 32\\n\"\\\n",
    "      \"**************************************************************\")\n",
    "lwe = FHE_RLWE.createFHE(security=128, n=1024)\n",
    "print(\"\\nPublic Key Generation time:\")\n",
    "print(timeit('lwe = FHE_RLWE.createFHE(security=128, n=1024)', number=5))\n",
    "\n",
    "apk = lwe.getPublicKey()\n",
    "\n",
    "print(\"\\nEncryption time:\")\n",
    "print(timeit('binary = [randint(0, 1) for i in range(0, 32)]\\nlwe.encrypt(binary, apk)', number=5))\n",
    "\n",
    "binary = [randint(0, 1) for i in range(0, 32)]\n",
    "cipher = lwe.encrypt(binary, apk)\n",
    "\n",
    "print(\"\\nDecryption time:\")\n",
    "print(timeit('lwe.decrypt(cipher)', number=25))"
   ]
  },
  {
   "cell_type": "markdown",
   "metadata": {},
   "source": [
    "Note\n",
    "------\n",
    "It should be noted that Ring-LWE actually is practically faster in certain cases.\\\n",
    "This is because it maintains the above speed, up to a message size less than or equal to n."
   ]
  },
  {
   "cell_type": "code",
   "execution_count": null,
   "metadata": {},
   "outputs": [],
   "source": []
  }
 ],
 "metadata": {
  "kernelspec": {
   "display_name": "SageMath 9.2",
   "language": "sage",
   "name": "sagemath"
  },
  "language_info": {
   "codemirror_mode": {
    "name": "ipython",
    "version": 3
   },
   "file_extension": ".py",
   "mimetype": "text/x-python",
   "name": "python",
   "nbconvert_exporter": "python",
   "pygments_lexer": "ipython3",
   "version": "3.7.7"
  }
 },
 "nbformat": 4,
 "nbformat_minor": 4
}
